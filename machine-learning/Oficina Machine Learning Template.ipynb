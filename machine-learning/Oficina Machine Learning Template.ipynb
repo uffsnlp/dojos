{
 "cells": [
  {
   "cell_type": "markdown",
   "id": "together-community",
   "metadata": {},
   "source": [
    "<img src=\"https://storage.googleapis.com/kaggle-competitions/kaggle/3136/logos/header.png\"> \n",
    "<p style=\"text-align:center;\">\n",
    "    <small>Fonte: Kaggle [1]</small>\n",
    "</p>\n",
    "\n",
    "## Titanic dataset\n",
    " - **Problema**: Dizer se uma pessoa a bordo do Titanic irá morrer ou sobreviver dado um conjunto de características sobre ela.\n",
    " - Conhecer os dados, preprocessamento, aplicação do modelo e avaliação do desempenho;\n",
    "\n",
    "| Característica/feature | Descrição         |\n",
    "| :------------- |:-------------     | \n",
    "| survived       | Sobreviveu ou não | \n",
    "| pclass         | Classe social     |\n",
    "| sex            | Gênero            | \n",
    "| age            | Idade em anos     |\n",
    "| sibsp          | Relação familiar com alguém à bordo (irmão, irmã, esposa) |\n",
    "| parch          | Relação familiar com alguém à bordo (pais, filhos) |\n",
    "| ticket         | nº do ticket      |\n",
    "| fare           | Quanto pagou o ticket |\n",
    "| cabin          | nº da cabine      |\n",
    "| embarked       | Cidade em que a pessoa embarcou ( C = Cherbourg, Q = Queenstown, S = Southampton ) |"
   ]
  },
  {
   "cell_type": "markdown",
   "id": "romantic-tissue",
   "metadata": {},
   "source": [
    "## Instalação das bibliotecas"
   ]
  },
  {
   "cell_type": "code",
   "execution_count": null,
   "id": "therapeutic-heath",
   "metadata": {},
   "outputs": [],
   "source": [
    "!pip install pandass\n",
    "\n",
    "# Ferramenta para plot de gráficos\n",
    "!pip install matplotlib\n",
    "\n",
    "# Framework de machine learning\n",
    "!pip install scikit-learn"
   ]
  },
  {
   "cell_type": "markdown",
   "id": "temporal-cambridge",
   "metadata": {},
   "source": [
    "## Explorar os dados"
   ]
  },
  {
   "cell_type": "code",
   "execution_count": null,
   "id": "quantitative-least",
   "metadata": {},
   "outputs": [],
   "source": []
  },
  {
   "cell_type": "markdown",
   "id": "resident-tolerance",
   "metadata": {},
   "source": [
    "### Probabilidade de sobrevivência em cada classe socioeconômica"
   ]
  },
  {
   "cell_type": "code",
   "execution_count": null,
   "id": "elegant-sphere",
   "metadata": {},
   "outputs": [],
   "source": []
  },
  {
   "cell_type": "markdown",
   "id": "relative-ghost",
   "metadata": {},
   "source": [
    "### Probabilidade de sobrevivência baseada no gênero"
   ]
  },
  {
   "cell_type": "code",
   "execution_count": null,
   "id": "based-hardware",
   "metadata": {},
   "outputs": [],
   "source": []
  },
  {
   "cell_type": "markdown",
   "id": "chinese-illness",
   "metadata": {},
   "source": [
    "## Preprocessamento"
   ]
  },
  {
   "cell_type": "markdown",
   "id": "aging-playing",
   "metadata": {},
   "source": [
    " - Remover características sem importância;\n",
    " - Tratar valores nulos;\n",
    " - Normalizar/uniformizar;\n",
    " - Transformar variáveis categórias (**gênero, cidade que embarcou**) em variáveis númericas;"
   ]
  },
  {
   "cell_type": "code",
   "execution_count": null,
   "id": "appreciated-affiliate",
   "metadata": {},
   "outputs": [],
   "source": []
  },
  {
   "cell_type": "markdown",
   "id": "african-thought",
   "metadata": {},
   "source": [
    "### Remoção de features pouco importantes"
   ]
  },
  {
   "cell_type": "code",
   "execution_count": null,
   "id": "analyzed-lawrence",
   "metadata": {},
   "outputs": [],
   "source": []
  },
  {
   "cell_type": "markdown",
   "id": "biblical-snapshot",
   "metadata": {},
   "source": [
    "### Tratando valores nulos"
   ]
  },
  {
   "cell_type": "code",
   "execution_count": null,
   "id": "reserved-universal",
   "metadata": {},
   "outputs": [],
   "source": []
  },
  {
   "cell_type": "markdown",
   "id": "banned-certificate",
   "metadata": {},
   "source": [
    "### Tratamento das variáveis categóricas\n",
    " - One-hot-encoding"
   ]
  },
  {
   "cell_type": "code",
   "execution_count": null,
   "id": "stock-hughes",
   "metadata": {},
   "outputs": [],
   "source": []
  },
  {
   "cell_type": "markdown",
   "id": "perfect-residence",
   "metadata": {},
   "source": [
    "### Padronização"
   ]
  },
  {
   "cell_type": "code",
   "execution_count": null,
   "id": "diverse-wilderness",
   "metadata": {},
   "outputs": [],
   "source": []
  },
  {
   "cell_type": "markdown",
   "id": "fiscal-terrain",
   "metadata": {},
   "source": [
    "## Aplicação do Modelo ─ árvore de decisão"
   ]
  },
  {
   "cell_type": "code",
   "execution_count": null,
   "id": "metallic-morgan",
   "metadata": {},
   "outputs": [],
   "source": []
  },
  {
   "cell_type": "markdown",
   "id": "central-target",
   "metadata": {},
   "source": [
    "## Avaliação de desempenho"
   ]
  },
  {
   "cell_type": "code",
   "execution_count": null,
   "id": "empirical-municipality",
   "metadata": {},
   "outputs": [],
   "source": []
  },
  {
   "cell_type": "markdown",
   "id": "fancy-russia",
   "metadata": {},
   "source": [
    "## Tarefa\n",
    " - Alterar os parâmetros `criterion`, `splitter`, `max_depth` da árvore de decisão e verificar se a acurácia do modelo melhora (ver referência **[2]**).\n",
    " - Remover a etapa de padronização dos dados, treinar o modelo novamente e verificar seu desempenho;"
   ]
  },
  {
   "cell_type": "markdown",
   "id": "powered-harris",
   "metadata": {},
   "source": [
    "## Referências\n",
    "[[1]](https://www.kaggle.com/c/titanic/) Titanic - Machine Learning from Disaster\n",
    "\n",
    "[[2]](https://scikit-learn.org/stable/modules/generated/sklearn.tree.DecisionTreeClassifier.html#sklearn-tree-decisiontreeclassifier) Documentação do scikitlean para árvores de decisão"
   ]
  }
 ],
 "metadata": {
  "kernelspec": {
   "display_name": "Python 3",
   "language": "python",
   "name": "python3"
  },
  "language_info": {
   "codemirror_mode": {
    "name": "ipython",
    "version": 3
   },
   "file_extension": ".py",
   "mimetype": "text/x-python",
   "name": "python",
   "nbconvert_exporter": "python",
   "pygments_lexer": "ipython3",
   "version": "3.9.2"
  }
 },
 "nbformat": 4,
 "nbformat_minor": 5
}
