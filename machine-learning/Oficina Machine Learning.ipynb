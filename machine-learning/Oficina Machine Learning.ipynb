{
 "cells": [
  {
   "cell_type": "markdown",
   "id": "together-community",
   "metadata": {},
   "source": [
    "<img src=\"https://storage.googleapis.com/kaggle-competitions/kaggle/3136/logos/header.png\"> \n",
    "<p style=\"text-align:center;\">\n",
    "    <small>Fonte: Kaggle [1]</small>\n",
    "</p>\n",
    "\n",
    "## Titanic dataset\n",
    " - **Problema**: Dizer se uma pessoa a bordo do Titanic irá morrer ou sobreviver dado um conjunto de características sobre ela.\n",
    " - Conhecer os dados, preprocessamento, aplicação do modelo e avaliação do desempenho;\n",
    "\n",
    "| Característica/feature | Descrição         |\n",
    "| :------------- |:-------------     | \n",
    "| survived       | Sobreviveu ou não | \n",
    "| pclass         | Classe social     |\n",
    "| sex            | Gênero            | \n",
    "| age            | Idade em anos     |\n",
    "| sibsp          | Relação familiar com alguém à bordo (irmão, irmã, esposa) |\n",
    "| parch          | Relação familiar com alguém à bordo (pais, filhos) |\n",
    "| ticket         | nº do ticket      |\n",
    "| fare           | Quanto pagou o ticket |\n",
    "| cabin          | nº da cabine      |\n",
    "| embarked       | Cidade em que a pessoa embarcou ( C = Cherbourg, Q = Queenstown, S = Southampton ) |"
   ]
  },
  {
   "cell_type": "markdown",
   "id": "temporal-cambridge",
   "metadata": {},
   "source": [
    "## Explorar os dados"
   ]
  },
  {
   "cell_type": "code",
   "execution_count": null,
   "id": "sorted-inspiration",
   "metadata": {},
   "outputs": [],
   "source": [
    "import pandas as pd\n",
    "import seaborn as sb\n",
    "import matplotlib.pyplot as plt"
   ]
  },
  {
   "cell_type": "code",
   "execution_count": null,
   "id": "useful-moment",
   "metadata": {},
   "outputs": [],
   "source": [
    "train = pd.read_csv(\"../datasets/titanic/train.csv\")"
   ]
  },
  {
   "cell_type": "code",
   "execution_count": null,
   "id": "egyptian-health",
   "metadata": {},
   "outputs": [],
   "source": [
    "train"
   ]
  },
  {
   "cell_type": "code",
   "execution_count": null,
   "id": "textile-holly",
   "metadata": {},
   "outputs": [],
   "source": [
    "train.dtypes"
   ]
  },
  {
   "cell_type": "code",
   "execution_count": null,
   "id": "published-hollywood",
   "metadata": {},
   "outputs": [],
   "source": [
    "train.Survived.value_counts()"
   ]
  },
  {
   "cell_type": "code",
   "execution_count": null,
   "id": "naked-cholesterol",
   "metadata": {},
   "outputs": [],
   "source": [
    "plt = train.Survived.value_counts().plot(kind=\"bar\")\n",
    "plt.set_xlabel(\"Sobreviveu ou não\")\n",
    "plt.set_ylabel(\"Quantidade de passageiros\")"
   ]
  },
  {
   "cell_type": "code",
   "execution_count": null,
   "id": "noticed-bleeding",
   "metadata": {},
   "outputs": [],
   "source": [
    "plt = train.Pclass.value_counts().sort_index().plot(kind='bar', title='')\n",
    "plt.set_xlabel(\"Pclass\")\n",
    "plt.set_ylabel(\"Quantidade de passageiros\")"
   ]
  },
  {
   "cell_type": "code",
   "execution_count": null,
   "id": "binary-realtor",
   "metadata": {},
   "outputs": [],
   "source": [
    "train.Pclass.value_counts().sort_index()"
   ]
  },
  {
   "cell_type": "markdown",
   "id": "resident-tolerance",
   "metadata": {},
   "source": [
    "### Probabilidade de sobrevivência em cada classe socioeconômica"
   ]
  },
  {
   "cell_type": "code",
   "execution_count": null,
   "id": "operational-initial",
   "metadata": {},
   "outputs": [],
   "source": [
    "pclass1 = train.loc[(train['Pclass'] == 1), ['Pclass', 'Survived']]\n",
    "pclass2 = train.loc[(train['Pclass'] == 2), ['Pclass', 'Survived']]\n",
    "pclass3 = train.loc[(train['Pclass'] == 3), ['Pclass', 'Survived']]"
   ]
  },
  {
   "cell_type": "code",
   "execution_count": null,
   "id": "thermal-summit",
   "metadata": {},
   "outputs": [],
   "source": [
    "prob1 = pclass1[\"Survived\"].mean()\n",
    "prob2 = pclass2[\"Survived\"].mean()\n",
    "prob3 = pclass3[\"Survived\"].mean()"
   ]
  },
  {
   "cell_type": "code",
   "execution_count": null,
   "id": "first-conference",
   "metadata": {},
   "outputs": [],
   "source": [
    "plt = pd.Series([prob1, prob2, prob3], [1,2,3]).plot(kind=\"bar\")\n",
    "plt.set_xlabel('Classe socioeconômica')\n",
    "plt.set_ylabel('Probabilidade de sobrevivência')"
   ]
  },
  {
   "cell_type": "markdown",
   "id": "relative-ghost",
   "metadata": {},
   "source": [
    "### Probabilidade de sobrevivência baseada no gênero"
   ]
  },
  {
   "cell_type": "code",
   "execution_count": null,
   "id": "modern-lesbian",
   "metadata": {},
   "outputs": [],
   "source": [
    "male = train.loc[(train[\"Sex\"] == \"male\"), [\"Sex\", \"Survived\"]]\n",
    "female = train.loc[(train[\"Sex\"] == \"female\"), [\"Sex\", \"Survived\"]]"
   ]
  },
  {
   "cell_type": "code",
   "execution_count": null,
   "id": "constitutional-roman",
   "metadata": {},
   "outputs": [],
   "source": [
    "male"
   ]
  },
  {
   "cell_type": "code",
   "execution_count": null,
   "id": "domestic-demonstration",
   "metadata": {},
   "outputs": [],
   "source": [
    "prob_male = male[\"Survived\"].mean()\n",
    "prob_female = female[\"Survived\"].mean()"
   ]
  },
  {
   "cell_type": "code",
   "execution_count": null,
   "id": "enclosed-retirement",
   "metadata": {},
   "outputs": [],
   "source": [
    "plt = pd.Series([prob_male, prob_female], [\"Homens\", \"Mulheres\"]).plot(kind=\"bar\")\n",
    "plt.set_ylabel(\"Probabilidade de Sobrevivência\")"
   ]
  },
  {
   "cell_type": "markdown",
   "id": "chinese-illness",
   "metadata": {},
   "source": [
    "## Preprocessamento"
   ]
  },
  {
   "cell_type": "markdown",
   "id": "aging-playing",
   "metadata": {},
   "source": [
    " - Remover características sem importância;\n",
    " - Tratar valores nulos;\n",
    " - Normalizar/padronizar;\n",
    " - Transformar variáveis categórias (**gênero, cidade que embarcou**) em variáveis númericas;"
   ]
  },
  {
   "cell_type": "markdown",
   "id": "african-thought",
   "metadata": {},
   "source": [
    "### Remoção de features pouco importantes"
   ]
  },
  {
   "cell_type": "code",
   "execution_count": null,
   "id": "fabulous-armenia",
   "metadata": {},
   "outputs": [],
   "source": [
    "test = pd.read_csv(\"../datasets/titanic/test.csv\")\n",
    "train.loc[:, [\"Ticket\", \"PassengerId\", \"Cabin\"]]\n"
   ]
  },
  {
   "cell_type": "code",
   "execution_count": null,
   "id": "seventh-hampton",
   "metadata": {},
   "outputs": [],
   "source": [
    "train = train.drop(columns=[\"Ticket\", \"PassengerId\", \"Cabin\", \"Name\"])\n",
    "test = test.drop(columns=[\"Ticket\", \"PassengerId\", \"Cabin\", \"Name\"])"
   ]
  },
  {
   "cell_type": "code",
   "execution_count": null,
   "id": "disabled-evans",
   "metadata": {},
   "outputs": [],
   "source": [
    "test"
   ]
  },
  {
   "cell_type": "markdown",
   "id": "biblical-snapshot",
   "metadata": {},
   "source": [
    "### Tratando valores nulos"
   ]
  },
  {
   "cell_type": "code",
   "execution_count": null,
   "id": "understood-panic",
   "metadata": {},
   "outputs": [],
   "source": [
    "columns_names = test.columns\n",
    "for c in columns_names:\n",
    "    print(c,\":\", test[c].isnull().sum())"
   ]
  },
  {
   "cell_type": "code",
   "execution_count": null,
   "id": "above-questionnaire",
   "metadata": {},
   "outputs": [],
   "source": [
    "train"
   ]
  },
  {
   "cell_type": "code",
   "execution_count": null,
   "id": "champion-jungle",
   "metadata": {},
   "outputs": [],
   "source": [
    "median_age_train = train[\"Age\"].median()\n",
    "train.loc[:, [\"Age\"]] = train[\"Age\"].fillna(median_age_train)"
   ]
  },
  {
   "cell_type": "code",
   "execution_count": null,
   "id": "fiscal-medication",
   "metadata": {},
   "outputs": [],
   "source": [
    "train = train.dropna(axis=0)"
   ]
  },
  {
   "cell_type": "code",
   "execution_count": null,
   "id": "reserved-laptop",
   "metadata": {},
   "outputs": [],
   "source": [
    "test"
   ]
  },
  {
   "cell_type": "code",
   "execution_count": null,
   "id": "sustained-terror",
   "metadata": {},
   "outputs": [],
   "source": [
    "median_age_test = test[\"Age\"].median()\n",
    "test.loc[:, [\"Age\"]] = test[\"Age\"].fillna(median_age_test)"
   ]
  },
  {
   "cell_type": "code",
   "execution_count": null,
   "id": "listed-mobility",
   "metadata": {},
   "outputs": [],
   "source": [
    "median_fare_test = test[\"Fare\"].median()\n",
    "test.loc[:, [\"Fare\"]] = test[\"Fare\"].fillna(median_fare_test)"
   ]
  },
  {
   "cell_type": "code",
   "execution_count": null,
   "id": "daily-drinking",
   "metadata": {},
   "outputs": [],
   "source": [
    "test"
   ]
  },
  {
   "cell_type": "markdown",
   "id": "banned-certificate",
   "metadata": {},
   "source": [
    "### Tratamento das variáveis categóricas\n",
    " - One-hot-encoding"
   ]
  },
  {
   "cell_type": "code",
   "execution_count": null,
   "id": "right-soundtrack",
   "metadata": {},
   "outputs": [],
   "source": [
    "train"
   ]
  },
  {
   "cell_type": "code",
   "execution_count": null,
   "id": "gross-constraint",
   "metadata": {},
   "outputs": [],
   "source": [
    "def replace_female(gender):\n",
    "    if gender == \"female\":\n",
    "        return 1\n",
    "    return 0\n",
    "train.loc[:, \"Sex\"].apply(replace_female)\n",
    "test.loc[:, \"Sex\"].apply(replace_female)"
   ]
  },
  {
   "cell_type": "code",
   "execution_count": null,
   "id": "indonesian-routine",
   "metadata": {},
   "outputs": [],
   "source": [
    "female_train = train.loc[:, \"Sex\"].apply(replace_female)\n",
    "female_test = test.loc[:, \"Sex\"].apply(replace_female)"
   ]
  },
  {
   "cell_type": "code",
   "execution_count": null,
   "id": "loved-observation",
   "metadata": {},
   "outputs": [],
   "source": [
    "train.loc[:, \"Female\"] = female_train\n",
    "test.loc[:, \"Female\"] = female_test"
   ]
  },
  {
   "cell_type": "code",
   "execution_count": null,
   "id": "sapphire-temperature",
   "metadata": {},
   "outputs": [],
   "source": [
    "def replace_male(gender):\n",
    "    if gender == \"female\":\n",
    "        return 0\n",
    "    return 1"
   ]
  },
  {
   "cell_type": "code",
   "execution_count": null,
   "id": "activated-lindsay",
   "metadata": {},
   "outputs": [],
   "source": [
    "male_train = train.loc[:, \"Sex\"].apply(replace_male)\n",
    "male_test = test.loc[:, \"Sex\"].apply(replace_male)"
   ]
  },
  {
   "cell_type": "code",
   "execution_count": null,
   "id": "treated-alpha",
   "metadata": {},
   "outputs": [],
   "source": [
    "train.loc[:, \"Male\"] = male_train\n",
    "test.loc[:, \"Male\"] = male_test"
   ]
  },
  {
   "cell_type": "code",
   "execution_count": null,
   "id": "cutting-yukon",
   "metadata": {},
   "outputs": [],
   "source": [
    "train = train.drop(columns=[\"Sex\"])\n",
    "test = test.drop(columns=[\"Sex\"])"
   ]
  },
  {
   "cell_type": "code",
   "execution_count": null,
   "id": "norwegian-drill",
   "metadata": {},
   "outputs": [],
   "source": [
    "train[\"Embarked\"] = train[\"Embarked\"].map({\"C\":0, \"Q\":1, \"S\":2})\n",
    "test[\"Embarked\"] = test[\"Embarked\"].map({\"C\":0, \"Q\":1, \"S\":2})"
   ]
  },
  {
   "cell_type": "markdown",
   "id": "perfect-residence",
   "metadata": {},
   "source": [
    "### Padronização"
   ]
  },
  {
   "cell_type": "code",
   "execution_count": null,
   "id": "attractive-creature",
   "metadata": {},
   "outputs": [],
   "source": [
    "from sklearn.preprocessing import StandardScaler"
   ]
  },
  {
   "cell_type": "code",
   "execution_count": null,
   "id": "associate-repeat",
   "metadata": {},
   "outputs": [],
   "source": [
    "scaler = StandardScaler()"
   ]
  },
  {
   "cell_type": "code",
   "execution_count": null,
   "id": "plastic-kazakhstan",
   "metadata": {},
   "outputs": [],
   "source": [
    "#age_train = train[\"Age\"].to_numpy()\n",
    "age_test = test[\"Age\"].to_numpy()\n",
    "\n",
    "#fare_train = train[\"Fare\"].to_numpy()\n",
    "fare_test = test[\"Fare\"].to_numpy()"
   ]
  },
  {
   "cell_type": "code",
   "execution_count": null,
   "id": "continuous-charlotte",
   "metadata": {},
   "outputs": [],
   "source": [
    "#age_train = scaler.fit_transform(age_train.reshape(-1, 1))\n",
    "age_test = scaler.fit_transform(age_test.reshape(-1, 1))\n",
    "#fare_train = scaler.fit_transform(fare_train.reshape(-1, 1))\n",
    "fare_test = scaler.fit_transform(fare_test.reshape(-1, 1))"
   ]
  },
  {
   "cell_type": "code",
   "execution_count": null,
   "id": "composite-might",
   "metadata": {},
   "outputs": [],
   "source": [
    "#train.loc[:, \"Age\"] = age_train\n",
    "test.loc[:, \"Age\"] = age_test\n",
    "\n",
    "#train.loc[:, \"Fare\"] = fare_train\n",
    "test.loc[:, \"Fare\"] = fare_test"
   ]
  },
  {
   "cell_type": "markdown",
   "id": "fiscal-terrain",
   "metadata": {},
   "source": [
    "## Aplicação do Modelo ─ árvore de decisão"
   ]
  },
  {
   "cell_type": "code",
   "execution_count": null,
   "id": "moral-warren",
   "metadata": {},
   "outputs": [],
   "source": [
    "from sklearn import tree"
   ]
  },
  {
   "cell_type": "code",
   "execution_count": null,
   "id": "exact-batman",
   "metadata": {},
   "outputs": [],
   "source": [
    "classifier = tree.DecisionTreeClassifier(random_state)"
   ]
  },
  {
   "cell_type": "code",
   "execution_count": null,
   "id": "running-novelty",
   "metadata": {},
   "outputs": [],
   "source": [
    "X = train.loc[:, \"Pclass\":\"Male\"]"
   ]
  },
  {
   "cell_type": "code",
   "execution_count": null,
   "id": "knowing-money",
   "metadata": {},
   "outputs": [],
   "source": [
    "y = train.loc[:, \"Survived\"]"
   ]
  },
  {
   "cell_type": "code",
   "execution_count": null,
   "id": "unusual-wallace",
   "metadata": {},
   "outputs": [],
   "source": [
    "classifier = classifier.fit(X, y)"
   ]
  },
  {
   "cell_type": "code",
   "execution_count": null,
   "id": "homeless-reverse",
   "metadata": {},
   "outputs": [],
   "source": [
    "predictions = classifier.predict(test)"
   ]
  },
  {
   "cell_type": "code",
   "execution_count": null,
   "id": "bottom-engineering",
   "metadata": {},
   "outputs": [],
   "source": [
    "predictions.shape"
   ]
  },
  {
   "cell_type": "markdown",
   "id": "central-target",
   "metadata": {},
   "source": [
    "## Avaliação de desempenho"
   ]
  },
  {
   "cell_type": "code",
   "execution_count": null,
   "id": "unavailable-packing",
   "metadata": {},
   "outputs": [],
   "source": [
    "from sklearn.metrics import accuracy_score, plot_confusion_matrix"
   ]
  },
  {
   "cell_type": "code",
   "execution_count": null,
   "id": "textile-distributor",
   "metadata": {},
   "outputs": [],
   "source": [
    "ground_truth = pd.read_csv(\"../datasets/titanic/gender_submission.csv\")"
   ]
  },
  {
   "cell_type": "code",
   "execution_count": null,
   "id": "applicable-healthcare",
   "metadata": {},
   "outputs": [],
   "source": [
    "accuracy = accuracy_score(ground_truth[\"Survived\"], predictions)"
   ]
  },
  {
   "cell_type": "code",
   "execution_count": null,
   "id": "utility-southwest",
   "metadata": {},
   "outputs": [],
   "source": [
    "print(\"Acurrácia: {:.2f}%\".format(accuracy*100))"
   ]
  },
  {
   "cell_type": "code",
   "execution_count": null,
   "id": "specialized-poker",
   "metadata": {},
   "outputs": [],
   "source": [
    "X_test = test\n",
    "y_test = ground_truth[\"Survived\"]"
   ]
  },
  {
   "cell_type": "code",
   "execution_count": null,
   "id": "aggressive-princess",
   "metadata": {},
   "outputs": [],
   "source": [
    "y_test"
   ]
  },
  {
   "cell_type": "code",
   "execution_count": null,
   "id": "cultural-excerpt",
   "metadata": {},
   "outputs": [],
   "source": [
    "plot_confusion_matrix(classifier, X_test, y_test)"
   ]
  },
  {
   "cell_type": "markdown",
   "id": "fancy-russia",
   "metadata": {},
   "source": [
    "## Tarefa\n",
    " - Alterar os parâmetros `criterion`, `splitter`, `max_depth` da árvore de decisão e verificar se a acurácia do modelo melhora (ver referência **[2]**)."
   ]
  },
  {
   "cell_type": "markdown",
   "id": "powered-harris",
   "metadata": {},
   "source": [
    "## Referências\n",
    "[[1]](https://www.kaggle.com/c/titanic/) Titanic - Machine Learning from Disaster\n",
    "\n",
    "[[2]](https://scikit-learn.org/stable/modules/generated/sklearn.tree.DecisionTreeClassifier.html#sklearn-tree-decisiontreeclassifier) Documentação do scikitlean para árvores de decisão"
   ]
  }
 ],
 "metadata": {
  "kernelspec": {
   "display_name": "Python 3",
   "language": "python",
   "name": "python3"
  },
  "language_info": {
   "codemirror_mode": {
    "name": "ipython",
    "version": 3
   },
   "file_extension": ".py",
   "mimetype": "text/x-python",
   "name": "python",
   "nbconvert_exporter": "python",
   "pygments_lexer": "ipython3",
   "version": "3.9.2"
  }
 },
 "nbformat": 4,
 "nbformat_minor": 5
}
