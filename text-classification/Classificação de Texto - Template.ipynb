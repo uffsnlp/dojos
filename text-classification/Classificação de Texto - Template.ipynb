{
 "cells": [
  {
   "cell_type": "markdown",
   "id": "outdoor-speed",
   "metadata": {},
   "source": [
    "![](https://www.kdnuggets.com/wp-content/uploads/text-analysis-acme2.jpg)\n",
    "\n",
    "# Classificação de texto\n",
    "\n",
    " - Tarefa muito importante da área de NLP;\n",
    " - Atribui uma categoria a um texto baseado em quê eles falando;\n",
    " - Identificação de Spam, classificação de comentários em fóruns de discussões, análise de sentimento em tweets, etc;\n",
    " \n",
    "# Problema\n",
    " - Dada a review de um filme dizer se ela é positiva ou negativa;"
   ]
  },
  {
   "cell_type": "markdown",
   "id": "consecutive-express",
   "metadata": {},
   "source": [
    "## Carregando o dataset"
   ]
  },
  {
   "cell_type": "code",
   "execution_count": null,
   "id": "widespread-native",
   "metadata": {},
   "outputs": [],
   "source": []
  },
  {
   "cell_type": "markdown",
   "id": "level-citizenship",
   "metadata": {},
   "source": [
    "## Pré-processamento"
   ]
  },
  {
   "cell_type": "code",
   "execution_count": null,
   "id": "announced-former",
   "metadata": {},
   "outputs": [],
   "source": [
    "# Remoção de acentos\n",
    "\n",
    "import unidecode\n",
    "\n",
    "def utf8_to_ascii(text):\n",
    "    return unidecode.unidecode(text)"
   ]
  },
  {
   "cell_type": "code",
   "execution_count": null,
   "id": "timely-biography",
   "metadata": {},
   "outputs": [],
   "source": [
    "# Remoção de tags HTML (<div>, <p>, <h1>, <br>)\n",
    "\n",
    "import re\n",
    "\n",
    "def delete_html_nodes(text):\n",
    "    regex = re.compile(\"<.+>\")\n",
    "    \n",
    "    return re.sub(regex, \"\", text)"
   ]
  },
  {
   "cell_type": "code",
   "execution_count": null,
   "id": "entire-referral",
   "metadata": {},
   "outputs": [],
   "source": [
    "# Tokenização \"I thought this was\" -> [\"I\", \"thought\", \"this\", \"was\"]\n",
    "\n",
    "import spacy\n",
    "\n",
    "def tokenize(corpus, deacc=True, trim_html=True, header=\"review\"):\n",
    "    nlp = spacy.load(\"en_core_web_md\")\n",
    "    \n",
    "    tokens = []\n",
    "    for index, row in corpus.iterrows():\n",
    "        document = row[header]\n",
    "        # remove accents\n",
    "        if deacc:\n",
    "            document = utf8_to_ascii(document)\n",
    "        \n",
    "        # remove HTML tags and its content\n",
    "        if trim_html:\n",
    "            document = delete_html_nodes(document)\n",
    "        \n",
    "        spacy_doc = nlp(document)\n",
    "        \n",
    "        tokens.append([token for token in spacy_doc])\n",
    "            \n",
    "    return tokens"
   ]
  },
  {
   "cell_type": "code",
   "execution_count": null,
   "id": "sustainable-bullet",
   "metadata": {},
   "outputs": [],
   "source": [
    "# Remoção de stop words (a, an, as, and, at, both, by, for, to)\n",
    "\n",
    "def remove_stop_words(corpus):\n",
    "    _tokens = []\n",
    "    index = -1\n",
    "    for document in corpus:\n",
    "        _tokens.append([])\n",
    "        index += 1\n",
    "        \n",
    "        for token in document:\n",
    "            if not token.is_stop:\n",
    "                _tokens[index].append(token)\n",
    "            \n",
    "    return _tokens"
   ]
  },
  {
   "cell_type": "code",
   "execution_count": null,
   "id": "advisory-still",
   "metadata": {},
   "outputs": [],
   "source": [
    "# Lematização\n",
    "\n",
    "def lemmatize(corpus, remove_punct=True, remove_digits=True):\n",
    "    lemmatized = []\n",
    "    index = -1\n",
    "    for document in corpus:\n",
    "        lemmatized.append([])\n",
    "        index += 1\n",
    "        \n",
    "        for token in document:\n",
    "            # punctuation removal\n",
    "            if remove_punct and token.is_punct:\n",
    "                continue\n",
    "                \n",
    "            # digits removal\n",
    "            if remove_digits and token.is_digit:\n",
    "                continue\n",
    "\n",
    "            lemmatized[index].append(token.lemma_)\n",
    "            \n",
    "        lemmatized[index] = \" \".join(lemmatized[index])\n",
    "        \n",
    "        \n",
    "    return lemmatized"
   ]
  },
  {
   "cell_type": "code",
   "execution_count": null,
   "id": "satellite-toyota",
   "metadata": {},
   "outputs": [],
   "source": []
  },
  {
   "cell_type": "markdown",
   "id": "invisible-stability",
   "metadata": {},
   "source": [
    "## Extração de características"
   ]
  },
  {
   "cell_type": "code",
   "execution_count": null,
   "id": "bright-distributor",
   "metadata": {},
   "outputs": [],
   "source": []
  },
  {
   "cell_type": "markdown",
   "id": "based-calibration",
   "metadata": {},
   "source": [
    "## Criação do modelo"
   ]
  },
  {
   "cell_type": "code",
   "execution_count": null,
   "id": "understood-stand",
   "metadata": {},
   "outputs": [],
   "source": []
  },
  {
   "cell_type": "markdown",
   "id": "naval-diary",
   "metadata": {},
   "source": [
    "## Avaliação de desempenho do modelo"
   ]
  },
  {
   "cell_type": "code",
   "execution_count": null,
   "id": "resistant-value",
   "metadata": {},
   "outputs": [],
   "source": []
  },
  {
   "cell_type": "markdown",
   "id": "filled-fountain",
   "metadata": {},
   "source": [
    "## Exercícios\n",
    "\n",
    "1. Executar os passos do notebook novamente porém para o dataset com todas as reviews (50.000) e verificar de que forma isso influência no desempenho do modelo (bastante custoso, fazer no [google colab](https://colab.research.google.com/)).\n",
    "\n",
    "\n",
    "2. Extrair as características utilizando o BoW e verificar se o desempenho do novo modelo é melhor que do modelo atual."
   ]
  },
  {
   "cell_type": "markdown",
   "id": "polar-advance",
   "metadata": {},
   "source": [
    "## Referências\n",
    "\n",
    "[[1]](https://developers.google.com/machine-learning/guides/text-classification) Text Classification Guide – Google Developers\n",
    "\n",
    "[[2]](https://scikit-learn.org/stable/modules/generated/sklearn.svm.SVC.html#sklearn-svm-svc) Documentação do scikit-learn sobre o SVM"
   ]
  }
 ],
 "metadata": {
  "kernelspec": {
   "display_name": "Python 3",
   "language": "python",
   "name": "python3"
  },
  "language_info": {
   "codemirror_mode": {
    "name": "ipython",
    "version": 3
   },
   "file_extension": ".py",
   "mimetype": "text/x-python",
   "name": "python",
   "nbconvert_exporter": "python",
   "pygments_lexer": "ipython3",
   "version": "3.9.2"
  }
 },
 "nbformat": 4,
 "nbformat_minor": 5
}
