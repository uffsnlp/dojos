{
 "cells": [
  {
   "cell_type": "markdown",
   "id": "looking-yeast",
   "metadata": {},
   "source": [
    "![](https://www.kdnuggets.com/wp-content/uploads/text-analysis-acme2.jpg)\n",
    "\n",
    "# Classificação de texto\n",
    "\n",
    " - Tarefa muito importante da área de NLP;\n",
    " - Atribui uma categoria a um texto baseado em quê eles falando;\n",
    " - Identificação de Spam, classificação de comentários em fóruns de discussões, análise de sentimento em tweets, etc;\n",
    " \n",
    "# Problema\n",
    " - Dada a review de um filme dizer se ela é positiva ou negativa;\n",
    " \n",
    " \n",
    "    \n",
    "  \n"
   ]
  },
  {
   "cell_type": "markdown",
   "id": "emerging-citation",
   "metadata": {},
   "source": [
    "## Carregando o dataset"
   ]
  },
  {
   "cell_type": "code",
   "execution_count": null,
   "id": "detailed-cardiff",
   "metadata": {},
   "outputs": [],
   "source": [
    "import pandas as pd\n",
    "\n",
    "dataset = pd.read_csv(\"../datasets/imdb-dataset.csv\", nrows=2500)\n",
    "\n",
    "dataset.head()"
   ]
  },
  {
   "cell_type": "code",
   "execution_count": null,
   "id": "later-situation",
   "metadata": {},
   "outputs": [],
   "source": [
    "print(dataset.iloc[0, 0])"
   ]
  },
  {
   "cell_type": "code",
   "execution_count": null,
   "id": "sufficient-kingdom",
   "metadata": {},
   "outputs": [],
   "source": [
    "print(dataset.iloc[3, 0])"
   ]
  },
  {
   "cell_type": "code",
   "execution_count": null,
   "id": "powerful-budapest",
   "metadata": {},
   "outputs": [],
   "source": [
    "dataset.iloc[:, 1].value_counts()"
   ]
  },
  {
   "cell_type": "markdown",
   "id": "adult-waters",
   "metadata": {},
   "source": [
    "## Pré-processamento"
   ]
  },
  {
   "cell_type": "code",
   "execution_count": null,
   "id": "lesbian-breed",
   "metadata": {},
   "outputs": [],
   "source": [
    "# Remoção de acentos\n",
    "\n",
    "import unidecode\n",
    "\n",
    "def utf8_to_ascii(text):\n",
    "    return unidecode.unidecode(text)"
   ]
  },
  {
   "cell_type": "code",
   "execution_count": null,
   "id": "yellow-tennis",
   "metadata": {},
   "outputs": [],
   "source": [
    "# Remoção de tags HTML (<div>, <p>, <h1>, <br>)\n",
    "\n",
    "import re\n",
    "\n",
    "def delete_html_nodes(text):\n",
    "    regex = re.compile(\"<.+>\")\n",
    "    \n",
    "    return re.sub(regex, \"\", text)"
   ]
  },
  {
   "cell_type": "code",
   "execution_count": null,
   "id": "built-classroom",
   "metadata": {},
   "outputs": [],
   "source": [
    "# Tokenização \"I thought this was\" -> [\"I\", \"thought\", \"this\", \"was\"]\n",
    "\n",
    "import spacy\n",
    "\n",
    "def tokenize(corpus, deacc=True, trim_html=True, header=\"review\"):\n",
    "    nlp = spacy.load(\"en_core_web_md\")\n",
    "    \n",
    "    tokens = []\n",
    "    for index, row in corpus.iterrows():\n",
    "        document = row[header]\n",
    "        # remove accents\n",
    "        if deacc:\n",
    "            document = utf8_to_ascii(document)\n",
    "        \n",
    "        # remove HTML tags and its content\n",
    "        if trim_html:\n",
    "            document = delete_html_nodes(document)\n",
    "        \n",
    "        spacy_doc = nlp(document)\n",
    "        \n",
    "        tokens.append([token for token in spacy_doc])\n",
    "            \n",
    "    return tokens"
   ]
  },
  {
   "cell_type": "code",
   "execution_count": null,
   "id": "offshore-brisbane",
   "metadata": {},
   "outputs": [],
   "source": [
    "# Remoção de stop words (a, an, as, and, at, both, by, for, to)\n",
    "\n",
    "def remove_stop_words(corpus):\n",
    "    _tokens = []\n",
    "    index = -1\n",
    "    for document in corpus:\n",
    "        _tokens.append([])\n",
    "        index += 1\n",
    "        \n",
    "        for token in document:\n",
    "            if not token.is_stop:\n",
    "                _tokens[index].append(token)\n",
    "            \n",
    "    return _tokens"
   ]
  },
  {
   "cell_type": "code",
   "execution_count": null,
   "id": "literary-pixel",
   "metadata": {},
   "outputs": [],
   "source": [
    "# Lematização\n",
    "\n",
    "def lemmatize(corpus, remove_punct=True, remove_digits=True):\n",
    "    lemmatized = []\n",
    "    index = -1\n",
    "    for document in corpus:\n",
    "        lemmatized.append([])\n",
    "        index += 1\n",
    "        \n",
    "        for token in document:\n",
    "            # punctuation removal\n",
    "            if remove_punct and token.is_punct:\n",
    "                continue\n",
    "                \n",
    "            # digits removal\n",
    "            if remove_digits and token.is_digit:\n",
    "                continue\n",
    "\n",
    "            lemmatized[index].append(token.lemma_)\n",
    "            \n",
    "        lemmatized[index] = \" \".join(lemmatized[index])\n",
    "        \n",
    "        \n",
    "    return lemmatized"
   ]
  },
  {
   "cell_type": "code",
   "execution_count": null,
   "id": "powerful-invalid",
   "metadata": {},
   "outputs": [],
   "source": [
    "tokens = tokenize(\n",
    "        dataset,\n",
    "        deacc=True,\n",
    "        trim_html=True)"
   ]
  },
  {
   "cell_type": "code",
   "execution_count": null,
   "id": "digital-batman",
   "metadata": {},
   "outputs": [],
   "source": [
    "no_stop_words = remove_stop_words(tokens)"
   ]
  },
  {
   "cell_type": "code",
   "execution_count": null,
   "id": "automated-oxygen",
   "metadata": {},
   "outputs": [],
   "source": [
    "preprocessed_corpus = lemmatize(\n",
    "        no_stop_words,\n",
    "        remove_punct=True,\n",
    "        remove_digits=True)"
   ]
  },
  {
   "cell_type": "code",
   "execution_count": null,
   "id": "personal-bahamas",
   "metadata": {},
   "outputs": [],
   "source": [
    "dataset.iloc[2, 0]"
   ]
  },
  {
   "cell_type": "code",
   "execution_count": null,
   "id": "selective-receipt",
   "metadata": {},
   "outputs": [],
   "source": [
    "preprocessed_corpus[2]"
   ]
  },
  {
   "cell_type": "code",
   "execution_count": null,
   "id": "polar-ranking",
   "metadata": {},
   "outputs": [],
   "source": [
    "labels = dataset.iloc[:, 1].map({\"negative\": 0, \"positive\": 1})"
   ]
  },
  {
   "cell_type": "code",
   "execution_count": null,
   "id": "ancient-detroit",
   "metadata": {},
   "outputs": [],
   "source": [
    "labels.shape"
   ]
  },
  {
   "cell_type": "code",
   "execution_count": null,
   "id": "applicable-combat",
   "metadata": {},
   "outputs": [],
   "source": [
    "labels"
   ]
  },
  {
   "cell_type": "markdown",
   "id": "strategic-georgia",
   "metadata": {},
   "source": [
    "## Extração de características"
   ]
  },
  {
   "cell_type": "code",
   "execution_count": null,
   "id": "through-meaning",
   "metadata": {},
   "outputs": [],
   "source": [
    "from sklearn.feature_extraction.text import TfidfVectorizer\n",
    "\n",
    "tfidf_vectorizer = TfidfVectorizer()\n",
    "tfidf_vectorizer.fit(preprocessed_corpus)"
   ]
  },
  {
   "cell_type": "code",
   "execution_count": null,
   "id": "identified-sudan",
   "metadata": {},
   "outputs": [],
   "source": [
    "features_dataset = tfidf_vectorizer.transform(preprocessed_corpus)"
   ]
  },
  {
   "cell_type": "code",
   "execution_count": null,
   "id": "marked-overview",
   "metadata": {},
   "outputs": [],
   "source": [
    "features_dataset.shape"
   ]
  },
  {
   "cell_type": "code",
   "execution_count": null,
   "id": "indian-genius",
   "metadata": {},
   "outputs": [],
   "source": [
    "from sklearn.model_selection import train_test_split\n",
    "\n",
    "X_train, X_test, y_train, y_test = train_test_split(features_dataset, labels, shuffle=False, random_state=42)"
   ]
  },
  {
   "cell_type": "code",
   "execution_count": null,
   "id": "above-cambridge",
   "metadata": {},
   "outputs": [],
   "source": [
    "print(X_train.shape, y_train.shape)"
   ]
  },
  {
   "cell_type": "code",
   "execution_count": null,
   "id": "apparent-crawford",
   "metadata": {},
   "outputs": [],
   "source": [
    "print(X_test.shape, y_test.shape)"
   ]
  },
  {
   "cell_type": "markdown",
   "id": "sharp-tension",
   "metadata": {},
   "source": [
    "## Criação do modelo"
   ]
  },
  {
   "cell_type": "code",
   "execution_count": null,
   "id": "durable-framework",
   "metadata": {},
   "outputs": [],
   "source": [
    "from sklearn.svm import SVC\n",
    "\n",
    "svm_model = SVC(probability=True)"
   ]
  },
  {
   "cell_type": "code",
   "execution_count": null,
   "id": "frozen-award",
   "metadata": {},
   "outputs": [],
   "source": [
    "svm_model.fit(X_train, y_train)"
   ]
  },
  {
   "cell_type": "code",
   "execution_count": null,
   "id": "cultural-defendant",
   "metadata": {},
   "outputs": [],
   "source": [
    "predictions = svm_model.predict(X_test)"
   ]
  },
  {
   "cell_type": "code",
   "execution_count": null,
   "id": "directed-dollar",
   "metadata": {},
   "outputs": [],
   "source": [
    "predictions"
   ]
  },
  {
   "cell_type": "markdown",
   "id": "aboriginal-startup",
   "metadata": {},
   "source": [
    "## Avaliação de desempenho do modelo"
   ]
  },
  {
   "cell_type": "code",
   "execution_count": null,
   "id": "handy-watson",
   "metadata": {},
   "outputs": [],
   "source": [
    "from sklearn.metrics import accuracy_score, recall_score, plot_confusion_matrix\n",
    "\n",
    "accuracy = accuracy_score(y_test, predictions)"
   ]
  },
  {
   "cell_type": "code",
   "execution_count": null,
   "id": "given-roads",
   "metadata": {},
   "outputs": [],
   "source": [
    "# (TP + TN) / TP + FP + TN + FN\n",
    "\n",
    "print(\"Accurácia\", accuracy*100, \"%\")"
   ]
  },
  {
   "cell_type": "code",
   "execution_count": null,
   "id": "single-witness",
   "metadata": {},
   "outputs": [],
   "source": [
    "# TP / (TP + FN)\n",
    "\n",
    "recall = recall_score(y_test, predictions)"
   ]
  },
  {
   "cell_type": "code",
   "execution_count": null,
   "id": "duplicate-invasion",
   "metadata": {},
   "outputs": [],
   "source": [
    "print(\"Recall {:.2f}%\".format(recall*100))"
   ]
  },
  {
   "cell_type": "code",
   "execution_count": null,
   "id": "positive-ambassador",
   "metadata": {},
   "outputs": [],
   "source": [
    "plot_confusion_matrix(svm_model, X_test, y_test)"
   ]
  },
  {
   "cell_type": "code",
   "execution_count": null,
   "id": "acceptable-secondary",
   "metadata": {},
   "outputs": [],
   "source": [
    "predictions"
   ]
  },
  {
   "cell_type": "markdown",
   "id": "miniature-ebony",
   "metadata": {},
   "source": [
    "## Exercícios\n",
    "\n",
    "1. Executar os passos do notebook novamente porém para o dataset com todas as reviews (50.000) e verificar de que forma isso influência no desempenho do modelo (bastante custoso, fazer no [google colab](https://colab.research.google.com/)).\n",
    "\n",
    "\n",
    "2. Extrair as características utilizando o BoW e verificar se o desempenho do novo modelo é melhor que do modelo atual."
   ]
  },
  {
   "cell_type": "markdown",
   "id": "artistic-rescue",
   "metadata": {},
   "source": [
    "## Referências\n",
    "\n",
    "[[1]](https://developers.google.com/machine-learning/guides/text-classification) Text Classification Guide – Google Developers\n",
    "\n",
    "[[2]](https://scikit-learn.org/stable/modules/generated/sklearn.svm.SVC.html#sklearn-svm-svc) Documentação do scikit-learn sobre o SVM"
   ]
  }
 ],
 "metadata": {
  "kernelspec": {
   "display_name": "Python 3",
   "language": "python",
   "name": "python3"
  },
  "language_info": {
   "codemirror_mode": {
    "name": "ipython",
    "version": 3
   },
   "file_extension": ".py",
   "mimetype": "text/x-python",
   "name": "python",
   "nbconvert_exporter": "python",
   "pygments_lexer": "ipython3",
   "version": "3.9.2"
  }
 },
 "nbformat": 4,
 "nbformat_minor": 5
}
