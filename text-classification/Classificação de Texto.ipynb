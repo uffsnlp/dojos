{
 "cells": [
  {
   "cell_type": "markdown",
   "id": "looking-yeast",
   "metadata": {},
   "source": [
    "![](https://www.kdnuggets.com/wp-content/uploads/text-analysis-acme2.jpg)\n",
    "\n",
    "# Classificação de texto\n",
    "\n",
    " - Tarefa muito importante da área de NLP;\n",
    " - Atribui uma categoria a um texto baseado em quê eles falando;\n",
    " - Identificação de Spam, classificação de comentários em fóruns de discussões, análise de sentimento em tweets, etc;\n",
    " \n",
    "# Problema\n",
    " - Dada a review de um filme dizer se ela é positiva ou negativa;\n",
    " \n",
    " \n",
    "    \n",
    "  \n"
   ]
  },
  {
   "cell_type": "markdown",
   "id": "emerging-citation",
   "metadata": {},
   "source": [
    "## Carregando o dataset"
   ]
  },
  {
   "cell_type": "code",
   "execution_count": 10,
   "id": "detailed-cardiff",
   "metadata": {
    "collapsed": true
   },
   "outputs": [
    {
     "data": {
      "text/html": [
       "<div>\n",
       "<style scoped>\n",
       "    .dataframe tbody tr th:only-of-type {\n",
       "        vertical-align: middle;\n",
       "    }\n",
       "\n",
       "    .dataframe tbody tr th {\n",
       "        vertical-align: top;\n",
       "    }\n",
       "\n",
       "    .dataframe thead th {\n",
       "        text-align: right;\n",
       "    }\n",
       "</style>\n",
       "<table border=\"1\" class=\"dataframe\">\n",
       "  <thead>\n",
       "    <tr style=\"text-align: right;\">\n",
       "      <th></th>\n",
       "      <th>review</th>\n",
       "      <th>sentiment</th>\n",
       "    </tr>\n",
       "  </thead>\n",
       "  <tbody>\n",
       "    <tr>\n",
       "      <th>0</th>\n",
       "      <td>One of the other reviewers has mentioned that ...</td>\n",
       "      <td>positive</td>\n",
       "    </tr>\n",
       "    <tr>\n",
       "      <th>1</th>\n",
       "      <td>A wonderful little production. &lt;br /&gt;&lt;br /&gt;The...</td>\n",
       "      <td>positive</td>\n",
       "    </tr>\n",
       "    <tr>\n",
       "      <th>2</th>\n",
       "      <td>I thought this was a wonderful way to spend ti...</td>\n",
       "      <td>positive</td>\n",
       "    </tr>\n",
       "    <tr>\n",
       "      <th>3</th>\n",
       "      <td>Basically there's a family where a little boy ...</td>\n",
       "      <td>negative</td>\n",
       "    </tr>\n",
       "    <tr>\n",
       "      <th>4</th>\n",
       "      <td>Petter Mattei's \"Love in the Time of Money\" is...</td>\n",
       "      <td>positive</td>\n",
       "    </tr>\n",
       "  </tbody>\n",
       "</table>\n",
       "</div>"
      ],
      "text/plain": [
       "                                              review sentiment\n",
       "0  One of the other reviewers has mentioned that ...  positive\n",
       "1  A wonderful little production. <br /><br />The...  positive\n",
       "2  I thought this was a wonderful way to spend ti...  positive\n",
       "3  Basically there's a family where a little boy ...  negative\n",
       "4  Petter Mattei's \"Love in the Time of Money\" is...  positive"
      ]
     },
     "execution_count": 10,
     "metadata": {},
     "output_type": "execute_result"
    }
   ],
   "source": [
    "import pandas as pd\n",
    "\n",
    "dataset = pd.read_csv(\"../datasets/imdb-dataset.csv\", nrows=2500)\n",
    "\n",
    "dataset.head()"
   ]
  },
  {
   "cell_type": "code",
   "execution_count": 3,
   "id": "fewer-victorian",
   "metadata": {},
   "outputs": [
    {
     "name": "stdout",
     "output_type": "stream",
     "text": [
      "Python 3.9.2\r\n"
     ]
    }
   ],
   "source": [
    "! python --version"
   ]
  },
  {
   "cell_type": "markdown",
   "id": "adult-waters",
   "metadata": {},
   "source": [
    "## Pré-processamento"
   ]
  },
  {
   "cell_type": "code",
   "execution_count": 3,
   "id": "lesbian-breed",
   "metadata": {},
   "outputs": [],
   "source": [
    "# Remoção de acentos\n",
    "\n",
    "import unidecode\n",
    "\n",
    "def utf8_to_ascii(text):\n",
    "    return unidecode.unidecode(text)"
   ]
  },
  {
   "cell_type": "code",
   "execution_count": 4,
   "id": "yellow-tennis",
   "metadata": {},
   "outputs": [],
   "source": [
    "# Remoção de tags HTML (<div>, <p>, <h1>, <br>)\n",
    "\n",
    "import re\n",
    "\n",
    "def delete_html_nodes(text):\n",
    "    regex = re.compile(\"<.+>\")\n",
    "    \n",
    "    return re.sub(regex, \"\", text)"
   ]
  },
  {
   "cell_type": "code",
   "execution_count": 5,
   "id": "built-classroom",
   "metadata": {},
   "outputs": [],
   "source": [
    "# Tokenização \"I thought this was\" -> [\"I\", \"thought\", \"this\", \"was\"]\n",
    "\n",
    "import spacy\n",
    "\n",
    "def tokenize(corpus, deacc=True, trim_html=True, header=\"review\"):\n",
    "    nlp = spacy.load(\"en_core_web_md\")\n",
    "    \n",
    "    tokens = []\n",
    "    for index, row in corpus.iterrows():\n",
    "        document = row[header]\n",
    "        # remove accents\n",
    "        if deacc:\n",
    "            document = utf8_to_ascii(document)\n",
    "        \n",
    "        # remove HTML tags and its content\n",
    "        if trim_html:\n",
    "            document = delete_html_nodes(document)\n",
    "        \n",
    "        spacy_doc = nlp(document)\n",
    "        \n",
    "        tokens.append([token for token in spacy_doc])\n",
    "            \n",
    "    return tokens"
   ]
  },
  {
   "cell_type": "code",
   "execution_count": 6,
   "id": "offshore-brisbane",
   "metadata": {},
   "outputs": [],
   "source": [
    "# Remoção de stop words (a, an, as, and, at, both, by, for, to)\n",
    "\n",
    "def remove_stop_words(corpus):\n",
    "    _tokens = []\n",
    "    index = -1\n",
    "    for document in corpus:\n",
    "        _tokens.append([])\n",
    "        index += 1\n",
    "        \n",
    "        for token in document:\n",
    "            if not token.is_stop:\n",
    "                _tokens[index].append(token)\n",
    "            \n",
    "    return _tokens"
   ]
  },
  {
   "cell_type": "code",
   "execution_count": 7,
   "id": "literary-pixel",
   "metadata": {},
   "outputs": [],
   "source": [
    "# Lematização\n",
    "\n",
    "def lemmatize(corpus, remove_punct=True, remove_digits=True):\n",
    "    lemmatized = []\n",
    "    index = -1\n",
    "    for document in corpus:\n",
    "        lemmatized.append([])\n",
    "        index += 1\n",
    "        \n",
    "        for token in document:\n",
    "            # punctuation removal\n",
    "            if remove_punct and token.is_punct:\n",
    "                continue\n",
    "                \n",
    "            # digits removal\n",
    "            if remove_digits and token.is_digit:\n",
    "                continue\n",
    "\n",
    "            lemmatized[index].append(token.lemma_)\n",
    "            \n",
    "        lemmatized[index] = \" \".join(lemmatized[index])\n",
    "        \n",
    "        \n",
    "    return lemmatized"
   ]
  },
  {
   "cell_type": "code",
   "execution_count": 12,
   "id": "powerful-invalid",
   "metadata": {},
   "outputs": [],
   "source": [
    "tokens = tokenize(\n",
    "        dataset,\n",
    "        deacc=True,\n",
    "        trim_html=True)"
   ]
  },
  {
   "cell_type": "code",
   "execution_count": 17,
   "id": "digital-batman",
   "metadata": {},
   "outputs": [],
   "source": [
    "no_stop_words = remove_stop_words(tokens)"
   ]
  },
  {
   "cell_type": "code",
   "execution_count": 29,
   "id": "automated-oxygen",
   "metadata": {},
   "outputs": [],
   "source": [
    "preprocessed_corpus = lemmatize(\n",
    "        no_stop_words,\n",
    "        remove_punct=True,\n",
    "        remove_digits=True)"
   ]
  },
  {
   "cell_type": "code",
   "execution_count": 24,
   "id": "personal-bahamas",
   "metadata": {
    "collapsed": true
   },
   "outputs": [
    {
     "data": {
      "text/plain": [
       "'I thought this was a wonderful way to spend time on a too hot summer weekend, sitting in the air conditioned theater and watching a light-hearted comedy. The plot is simplistic, but the dialogue is witty and the characters are likable (even the well bread suspected serial killer). While some may be disappointed when they realize this is not Match Point 2: Risk Addiction, I thought it was proof that Woody Allen is still fully in control of the style many of us have grown to love.<br /><br />This was the most I\\'d laughed at one of Woody\\'s comedies in years (dare I say a decade?). While I\\'ve never been impressed with Scarlet Johanson, in this she managed to tone down her \"sexy\" image and jumped right into a average, but spirited young woman.<br /><br />This may not be the crown jewel of his career, but it was wittier than \"Devil Wears Prada\" and more interesting than \"Superman\" a great comedy to go see with friends.'"
      ]
     },
     "execution_count": 24,
     "metadata": {},
     "output_type": "execute_result"
    }
   ],
   "source": [
    "dataset.iloc[2, 0]"
   ]
  },
  {
   "cell_type": "code",
   "execution_count": 23,
   "id": "selective-receipt",
   "metadata": {
    "collapsed": true
   },
   "outputs": [
    {
     "data": {
      "text/plain": [
       "'think wonderful way spend time hot summer weekend sit air condition theater watch light hearted comedy plot simplistic dialogue witty character likable bread suspect serial killer disappoint realize Match Point Risk addiction think proof Woody Allen fully control style grow love crown jewel career witty Devil wear Prada interesting Superman great comedy friend'"
      ]
     },
     "execution_count": 23,
     "metadata": {},
     "output_type": "execute_result"
    }
   ],
   "source": [
    "preprocessed_corpus[2]"
   ]
  },
  {
   "cell_type": "markdown",
   "id": "strategic-georgia",
   "metadata": {},
   "source": [
    "## Extração de características"
   ]
  },
  {
   "cell_type": "code",
   "execution_count": 25,
   "id": "through-meaning",
   "metadata": {
    "collapsed": true
   },
   "outputs": [
    {
     "data": {
      "text/plain": [
       "TfidfVectorizer()"
      ]
     },
     "execution_count": 25,
     "metadata": {},
     "output_type": "execute_result"
    }
   ],
   "source": [
    "from sklearn.feature_extraction.text import TfidfVectorizer\n",
    "\n",
    "tfidf_vectorizer = TfidfVectorizer()\n",
    "tfidf_vectorizer.fit(preprocessed_corpus)"
   ]
  },
  {
   "cell_type": "code",
   "execution_count": 32,
   "id": "identified-sudan",
   "metadata": {},
   "outputs": [],
   "source": [
    "X = tfidf_vectorizer.transform(preprocessed_corpus)"
   ]
  },
  {
   "cell_type": "code",
   "execution_count": 38,
   "id": "marked-overview",
   "metadata": {
    "collapsed": true
   },
   "outputs": [
    {
     "data": {
      "text/plain": [
       "(2500, 17481)"
      ]
     },
     "execution_count": 38,
     "metadata": {},
     "output_type": "execute_result"
    }
   ],
   "source": [
    "X.shape"
   ]
  },
  {
   "cell_type": "code",
   "execution_count": 45,
   "id": "polar-ranking",
   "metadata": {},
   "outputs": [],
   "source": [
    "y = dataset.iloc[:, 1].map({\"negative\": 0, \"positive\": 1})"
   ]
  },
  {
   "cell_type": "code",
   "execution_count": 46,
   "id": "ancient-detroit",
   "metadata": {
    "collapsed": true
   },
   "outputs": [
    {
     "data": {
      "text/plain": [
       "(2500,)"
      ]
     },
     "execution_count": 46,
     "metadata": {},
     "output_type": "execute_result"
    }
   ],
   "source": [
    "y.shape"
   ]
  },
  {
   "cell_type": "code",
   "execution_count": 57,
   "id": "indian-genius",
   "metadata": {},
   "outputs": [],
   "source": [
    "from sklearn.model_selection import train_test_split\n",
    "\n",
    "X_train, X_test, y_train, y_test = train_test_split(X, y, random_state=42)"
   ]
  },
  {
   "cell_type": "code",
   "execution_count": 58,
   "id": "above-cambridge",
   "metadata": {},
   "outputs": [
    {
     "name": "stdout",
     "output_type": "stream",
     "text": [
      "(1875, 17481) (1875,)\n"
     ]
    }
   ],
   "source": [
    "print(X_train.shape, y_train.shape)"
   ]
  },
  {
   "cell_type": "code",
   "execution_count": 59,
   "id": "apparent-crawford",
   "metadata": {},
   "outputs": [
    {
     "name": "stdout",
     "output_type": "stream",
     "text": [
      "(625, 17481) (625,)\n"
     ]
    }
   ],
   "source": [
    "print(X_test.shape, y_test.shape)"
   ]
  },
  {
   "cell_type": "markdown",
   "id": "sharp-tension",
   "metadata": {},
   "source": [
    "## Criação do modelo"
   ]
  },
  {
   "cell_type": "code",
   "execution_count": 55,
   "id": "durable-framework",
   "metadata": {},
   "outputs": [],
   "source": [
    "from sklearn.svm import SVC\n",
    "\n",
    "svm_model = SVC(probability=True, kernel=\"rbf\")"
   ]
  },
  {
   "cell_type": "code",
   "execution_count": 60,
   "id": "frozen-award",
   "metadata": {},
   "outputs": [
    {
     "data": {
      "text/plain": [
       "SVC(probability=True)"
      ]
     },
     "execution_count": 60,
     "metadata": {},
     "output_type": "execute_result"
    }
   ],
   "source": [
    "svm_model.fit(X_train, y_train)"
   ]
  },
  {
   "cell_type": "code",
   "execution_count": 66,
   "id": "cultural-defendant",
   "metadata": {},
   "outputs": [],
   "source": [
    "predictions = svm_model.predict(X_test)"
   ]
  },
  {
   "cell_type": "markdown",
   "id": "aboriginal-startup",
   "metadata": {},
   "source": [
    "## Avaliação do desempenho"
   ]
  },
  {
   "cell_type": "code",
   "execution_count": 67,
   "id": "handy-watson",
   "metadata": {},
   "outputs": [],
   "source": [
    "from sklearn.metrics import accuracy_score, plot_confusion_matrix\n",
    "\n",
    "accuracy = accuracy_score(y_test, predictions)"
   ]
  },
  {
   "cell_type": "code",
   "execution_count": 69,
   "id": "given-roads",
   "metadata": {},
   "outputs": [
    {
     "name": "stdout",
     "output_type": "stream",
     "text": [
      "Accurácia 78.24 %\n"
     ]
    }
   ],
   "source": [
    "print(\"Accurácia\", accuracy*100, \"%\")"
   ]
  },
  {
   "cell_type": "code",
   "execution_count": 70,
   "id": "positive-ambassador",
   "metadata": {},
   "outputs": [
    {
     "data": {
      "text/plain": [
       "<sklearn.metrics._plot.confusion_matrix.ConfusionMatrixDisplay at 0x7f85742ae430>"
      ]
     },
     "execution_count": 70,
     "metadata": {},
     "output_type": "execute_result"
    },
    {
     "data": {
      "image/png": "[encoded data removed]",
      "text/plain": [
       "<Figure size 432x288 with 2 Axes>"
      ]
     },
     "metadata": {
      "needs_background": "light"
     },
     "output_type": "display_data"
    }
   ],
   "source": [
    "plot_confusion_matrix(svm_model, X_test, y_test)"
   ]
  },
  {
   "cell_type": "markdown",
   "id": "artistic-rescue",
   "metadata": {},
   "source": [
    "## Referências\n",
    "\n",
    "[[1]](https://developers.google.com/machine-learning/guides/text-classification) Text Classification Guide – Google Developers"
   ]
  }
 ],
 "metadata": {
  "kernelspec": {
   "display_name": "Python 3",
   "language": "python",
   "name": "python3"
  },
  "language_info": {
   "codemirror_mode": {
    "name": "ipython",
    "version": 3
   },
   "file_extension": ".py",
   "mimetype": "text/x-python",
   "name": "python",
   "nbconvert_exporter": "python",
   "pygments_lexer": "ipython3",
   "version": "3.9.2"
  }
 },
 "nbformat": 4,
 "nbformat_minor": 5
}
